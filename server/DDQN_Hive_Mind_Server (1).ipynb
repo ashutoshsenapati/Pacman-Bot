{
  "nbformat": 4,
  "nbformat_minor": 0,
  "metadata": {
    "colab": {
      "name": "DDQN Hive Mind Server.ipynb",
      "provenance": [],
      "collapsed_sections": [],
      "toc_visible": true
    },
    "kernelspec": {
      "name": "python3",
      "display_name": "Python 3"
    },
    "accelerator": "GPU"
  },
  "cells": [
    {
      "cell_type": "code",
      "metadata": {
        "id": "7LkFelkcVVeM",
        "colab_type": "code",
        "colab": {}
      },
      "source": [
        "# Colab Conversion to SSH Server Code Created by Imad El Hanafi : https://imadelhanafi.com\n",
        "# Machine Learning DDQN Hive Mind programmed by Clint Wang\n",
        "# Sockets programmed by Dhruv Chanana"
      ],
      "execution_count": null,
      "outputs": []
    },
    {
      "cell_type": "markdown",
      "metadata": {
        "id": "7KYvm7elVabs",
        "colab_type": "text"
      },
      "source": [
        "# Check GPU status\n",
        "\n",
        "Make surre to use : GPU runtime mode (Runtime->Change Runtime type -> python3 + GPU\n",
        ")\n",
        "\n"
      ]
    },
    {
      "cell_type": "code",
      "metadata": {
        "id": "-nwY1_gYVcpc",
        "colab_type": "code",
        "colab": {
          "base_uri": "https://localhost:8080/",
          "height": 458
        },
        "outputId": "d8faa91a-a769-4af6-d08d-2fdbb2abd397"
      },
      "source": [
        "# Check nvidia and nvcc cuda compiler\n",
        "\n",
        "!nvidia-smi\n",
        "!/usr/local/cuda/bin/nvcc --version"
      ],
      "execution_count": null,
      "outputs": [
        {
          "output_type": "stream",
          "text": [
            "Fri Jul 24 15:09:21 2020       \n",
            "+-----------------------------------------------------------------------------+\n",
            "| NVIDIA-SMI 450.51.05    Driver Version: 418.67       CUDA Version: 10.1     |\n",
            "|-------------------------------+----------------------+----------------------+\n",
            "| GPU  Name        Persistence-M| Bus-Id        Disp.A | Volatile Uncorr. ECC |\n",
            "| Fan  Temp  Perf  Pwr:Usage/Cap|         Memory-Usage | GPU-Util  Compute M. |\n",
            "|                               |                      |               MIG M. |\n",
            "|===============================+======================+======================|\n",
            "|   0  Tesla K80           Off  | 00000000:00:04.0 Off |                    0 |\n",
            "| N/A   35C    P8    26W / 149W |      0MiB / 11441MiB |      0%      Default |\n",
            "|                               |                      |                 ERR! |\n",
            "+-------------------------------+----------------------+----------------------+\n",
            "                                                                               \n",
            "+-----------------------------------------------------------------------------+\n",
            "| Processes:                                                                  |\n",
            "|  GPU   GI   CI        PID   Type   Process name                  GPU Memory |\n",
            "|        ID   ID                                                   Usage      |\n",
            "|=============================================================================|\n",
            "|  No running processes found                                                 |\n",
            "+-----------------------------------------------------------------------------+\n",
            "nvcc: NVIDIA (R) Cuda compiler driver\n",
            "Copyright (c) 2005-2019 NVIDIA Corporation\n",
            "Built on Sun_Jul_28_19:07:16_PDT_2019\n",
            "Cuda compilation tools, release 10.1, V10.1.243\n"
          ],
          "name": "stdout"
        }
      ]
    },
    {
      "cell_type": "markdown",
      "metadata": {
        "id": "FT66Rd6yV3ib",
        "colab_type": "text"
      },
      "source": [
        "#Mount Google Drive for SSH Files"
      ]
    },
    {
      "cell_type": "code",
      "metadata": {
        "id": "tUCE2A_DVeMe",
        "colab_type": "code",
        "colab": {
          "base_uri": "https://localhost:8080/",
          "height": 129
        },
        "outputId": "14964af7-bd59-4a87-dfa8-48294f83c14e"
      },
      "source": [
        "# link to google drive\n",
        "\n",
        "from google.colab import drive\n",
        "drive.mount('/content/gdrive/')\n"
      ],
      "execution_count": null,
      "outputs": [
        {
          "output_type": "stream",
          "text": [
            "Go to this URL in a browser: https://accounts.google.com/o/oauth2/auth?client_id=947318989803-6bn6qk8qdgf4n4g3pfee6491hc0brc4i.apps.googleusercontent.com&redirect_uri=urn%3aietf%3awg%3aoauth%3a2.0%3aoob&response_type=code&scope=email%20https%3a%2f%2fwww.googleapis.com%2fauth%2fdocs.test%20https%3a%2f%2fwww.googleapis.com%2fauth%2fdrive%20https%3a%2f%2fwww.googleapis.com%2fauth%2fdrive.photos.readonly%20https%3a%2f%2fwww.googleapis.com%2fauth%2fpeopleapi.readonly\n",
            "\n",
            "Enter your authorization code:\n",
            "··········\n",
            "Mounted at /content/gdrive/\n"
          ],
          "name": "stdout"
        }
      ]
    },
    {
      "cell_type": "code",
      "metadata": {
        "id": "7j2NLxcrV9hj",
        "colab_type": "code",
        "colab": {
          "base_uri": "https://localhost:8080/",
          "height": 35
        },
        "outputId": "145e39c7-2317-4893-f624-8110c499a462"
      },
      "source": [
        "#check that Gdrive is mounted\n",
        "\n",
        "!pwd"
      ],
      "execution_count": null,
      "outputs": [
        {
          "output_type": "stream",
          "text": [
            "/content\n"
          ],
          "name": "stdout"
        }
      ]
    },
    {
      "cell_type": "markdown",
      "metadata": {
        "id": "Ftyme-AIYFgK",
        "colab_type": "text"
      },
      "source": [
        "#Setup SSH port forwarding"
      ]
    },
    {
      "cell_type": "code",
      "metadata": {
        "id": "H_1iQGAtYvCq",
        "colab_type": "code",
        "colab": {}
      },
      "source": [
        "# 2 - Download Ngrok\n",
        "\n",
        "! wget -q -c -nc https://bin.equinox.io/c/4VmDzA7iaHb/ngrok-stable-linux-amd64.zip\n",
        "! unzip -qq -n ngrok-stable-linux-amd64.zip"
      ],
      "execution_count": null,
      "outputs": []
    },
    {
      "cell_type": "code",
      "metadata": {
        "id": "68P192JwZBtF",
        "colab_type": "code",
        "colab": {
          "base_uri": "https://localhost:8080/",
          "height": 583
        },
        "outputId": "c9a4765a-090f-4347-a8b0-52c2da732084"
      },
      "source": [
        "# 3 - setup Ngrok - authtoken\n",
        "\n",
        "#Ask token\n",
        "print(\"Get your authtoken from https://dashboard.ngrok.com/auth\")\n",
        "import getpass\n",
        "authtoken = getpass.getpass()\n",
        "\n",
        "#Create tunnel\n",
        "get_ipython().system_raw('./ngrok authtoken $authtoken && ./ngrok tcp 65432 &')"
      ],
      "execution_count": null,
      "outputs": [
        {
          "output_type": "stream",
          "text": [
            "Get your authtoken from https://dashboard.ngrok.com/auth\n"
          ],
          "name": "stdout"
        },
        {
          "output_type": "error",
          "ename": "KeyboardInterrupt",
          "evalue": "ignored",
          "traceback": [
            "\u001b[0;31m---------------------------------------------------------------------------\u001b[0m",
            "\u001b[0;31mKeyboardInterrupt\u001b[0m                         Traceback (most recent call last)",
            "\u001b[0;32m/usr/local/lib/python3.6/dist-packages/ipykernel/kernelbase.py\u001b[0m in \u001b[0;36m_input_request\u001b[0;34m(self, prompt, ident, parent, password)\u001b[0m\n\u001b[1;32m    728\u001b[0m             \u001b[0;32mtry\u001b[0m\u001b[0;34m:\u001b[0m\u001b[0;34m\u001b[0m\u001b[0;34m\u001b[0m\u001b[0m\n\u001b[0;32m--> 729\u001b[0;31m                 \u001b[0mident\u001b[0m\u001b[0;34m,\u001b[0m \u001b[0mreply\u001b[0m \u001b[0;34m=\u001b[0m \u001b[0mself\u001b[0m\u001b[0;34m.\u001b[0m\u001b[0msession\u001b[0m\u001b[0;34m.\u001b[0m\u001b[0mrecv\u001b[0m\u001b[0;34m(\u001b[0m\u001b[0mself\u001b[0m\u001b[0;34m.\u001b[0m\u001b[0mstdin_socket\u001b[0m\u001b[0;34m,\u001b[0m \u001b[0;36m0\u001b[0m\u001b[0;34m)\u001b[0m\u001b[0;34m\u001b[0m\u001b[0;34m\u001b[0m\u001b[0m\n\u001b[0m\u001b[1;32m    730\u001b[0m             \u001b[0;32mexcept\u001b[0m \u001b[0mException\u001b[0m\u001b[0;34m:\u001b[0m\u001b[0;34m\u001b[0m\u001b[0;34m\u001b[0m\u001b[0m\n",
            "\u001b[0;32m/usr/local/lib/python3.6/dist-packages/jupyter_client/session.py\u001b[0m in \u001b[0;36mrecv\u001b[0;34m(self, socket, mode, content, copy)\u001b[0m\n\u001b[1;32m    802\u001b[0m         \u001b[0;32mtry\u001b[0m\u001b[0;34m:\u001b[0m\u001b[0;34m\u001b[0m\u001b[0;34m\u001b[0m\u001b[0m\n\u001b[0;32m--> 803\u001b[0;31m             \u001b[0mmsg_list\u001b[0m \u001b[0;34m=\u001b[0m \u001b[0msocket\u001b[0m\u001b[0;34m.\u001b[0m\u001b[0mrecv_multipart\u001b[0m\u001b[0;34m(\u001b[0m\u001b[0mmode\u001b[0m\u001b[0;34m,\u001b[0m \u001b[0mcopy\u001b[0m\u001b[0;34m=\u001b[0m\u001b[0mcopy\u001b[0m\u001b[0;34m)\u001b[0m\u001b[0;34m\u001b[0m\u001b[0;34m\u001b[0m\u001b[0m\n\u001b[0m\u001b[1;32m    804\u001b[0m         \u001b[0;32mexcept\u001b[0m \u001b[0mzmq\u001b[0m\u001b[0;34m.\u001b[0m\u001b[0mZMQError\u001b[0m \u001b[0;32mas\u001b[0m \u001b[0me\u001b[0m\u001b[0;34m:\u001b[0m\u001b[0;34m\u001b[0m\u001b[0;34m\u001b[0m\u001b[0m\n",
            "\u001b[0;32m/usr/local/lib/python3.6/dist-packages/zmq/sugar/socket.py\u001b[0m in \u001b[0;36mrecv_multipart\u001b[0;34m(self, flags, copy, track)\u001b[0m\n\u001b[1;32m    474\u001b[0m         \"\"\"\n\u001b[0;32m--> 475\u001b[0;31m         \u001b[0mparts\u001b[0m \u001b[0;34m=\u001b[0m \u001b[0;34m[\u001b[0m\u001b[0mself\u001b[0m\u001b[0;34m.\u001b[0m\u001b[0mrecv\u001b[0m\u001b[0;34m(\u001b[0m\u001b[0mflags\u001b[0m\u001b[0;34m,\u001b[0m \u001b[0mcopy\u001b[0m\u001b[0;34m=\u001b[0m\u001b[0mcopy\u001b[0m\u001b[0;34m,\u001b[0m \u001b[0mtrack\u001b[0m\u001b[0;34m=\u001b[0m\u001b[0mtrack\u001b[0m\u001b[0;34m)\u001b[0m\u001b[0;34m]\u001b[0m\u001b[0;34m\u001b[0m\u001b[0;34m\u001b[0m\u001b[0m\n\u001b[0m\u001b[1;32m    476\u001b[0m         \u001b[0;31m# have first part already, only loop while more to receive\u001b[0m\u001b[0;34m\u001b[0m\u001b[0;34m\u001b[0m\u001b[0;34m\u001b[0m\u001b[0m\n",
            "\u001b[0;32mzmq/backend/cython/socket.pyx\u001b[0m in \u001b[0;36mzmq.backend.cython.socket.Socket.recv\u001b[0;34m()\u001b[0m\n",
            "\u001b[0;32mzmq/backend/cython/socket.pyx\u001b[0m in \u001b[0;36mzmq.backend.cython.socket.Socket.recv\u001b[0;34m()\u001b[0m\n",
            "\u001b[0;32mzmq/backend/cython/socket.pyx\u001b[0m in \u001b[0;36mzmq.backend.cython.socket._recv_copy\u001b[0;34m()\u001b[0m\n",
            "\u001b[0;32m/usr/local/lib/python3.6/dist-packages/zmq/backend/cython/checkrc.pxd\u001b[0m in \u001b[0;36mzmq.backend.cython.checkrc._check_rc\u001b[0;34m()\u001b[0m\n",
            "\u001b[0;31mKeyboardInterrupt\u001b[0m: ",
            "\nDuring handling of the above exception, another exception occurred:\n",
            "\u001b[0;31mKeyboardInterrupt\u001b[0m                         Traceback (most recent call last)",
            "\u001b[0;32m<ipython-input-7-b4156413fa3c>\u001b[0m in \u001b[0;36m<module>\u001b[0;34m()\u001b[0m\n\u001b[1;32m      4\u001b[0m \u001b[0mprint\u001b[0m\u001b[0;34m(\u001b[0m\u001b[0;34m\"Get your authtoken from https://dashboard.ngrok.com/auth\"\u001b[0m\u001b[0;34m)\u001b[0m\u001b[0;34m\u001b[0m\u001b[0;34m\u001b[0m\u001b[0m\n\u001b[1;32m      5\u001b[0m \u001b[0;32mimport\u001b[0m \u001b[0mgetpass\u001b[0m\u001b[0;34m\u001b[0m\u001b[0;34m\u001b[0m\u001b[0m\n\u001b[0;32m----> 6\u001b[0;31m \u001b[0mauthtoken\u001b[0m \u001b[0;34m=\u001b[0m \u001b[0mgetpass\u001b[0m\u001b[0;34m.\u001b[0m\u001b[0mgetpass\u001b[0m\u001b[0;34m(\u001b[0m\u001b[0;34m)\u001b[0m\u001b[0;34m\u001b[0m\u001b[0;34m\u001b[0m\u001b[0m\n\u001b[0m\u001b[1;32m      7\u001b[0m \u001b[0;34m\u001b[0m\u001b[0m\n\u001b[1;32m      8\u001b[0m \u001b[0;31m#Create tunnel\u001b[0m\u001b[0;34m\u001b[0m\u001b[0;34m\u001b[0m\u001b[0;34m\u001b[0m\u001b[0m\n",
            "\u001b[0;32m/usr/local/lib/python3.6/dist-packages/ipykernel/kernelbase.py\u001b[0m in \u001b[0;36mgetpass\u001b[0;34m(self, prompt, stream)\u001b[0m\n\u001b[1;32m    685\u001b[0m             \u001b[0mself\u001b[0m\u001b[0;34m.\u001b[0m\u001b[0m_parent_ident\u001b[0m\u001b[0;34m,\u001b[0m\u001b[0;34m\u001b[0m\u001b[0;34m\u001b[0m\u001b[0m\n\u001b[1;32m    686\u001b[0m             \u001b[0mself\u001b[0m\u001b[0;34m.\u001b[0m\u001b[0m_parent_header\u001b[0m\u001b[0;34m,\u001b[0m\u001b[0;34m\u001b[0m\u001b[0;34m\u001b[0m\u001b[0m\n\u001b[0;32m--> 687\u001b[0;31m             \u001b[0mpassword\u001b[0m\u001b[0;34m=\u001b[0m\u001b[0;32mTrue\u001b[0m\u001b[0;34m,\u001b[0m\u001b[0;34m\u001b[0m\u001b[0;34m\u001b[0m\u001b[0m\n\u001b[0m\u001b[1;32m    688\u001b[0m         )\n\u001b[1;32m    689\u001b[0m \u001b[0;34m\u001b[0m\u001b[0m\n",
            "\u001b[0;32m/usr/local/lib/python3.6/dist-packages/ipykernel/kernelbase.py\u001b[0m in \u001b[0;36m_input_request\u001b[0;34m(self, prompt, ident, parent, password)\u001b[0m\n\u001b[1;32m    732\u001b[0m             \u001b[0;32mexcept\u001b[0m \u001b[0mKeyboardInterrupt\u001b[0m\u001b[0;34m:\u001b[0m\u001b[0;34m\u001b[0m\u001b[0;34m\u001b[0m\u001b[0m\n\u001b[1;32m    733\u001b[0m                 \u001b[0;31m# re-raise KeyboardInterrupt, to truncate traceback\u001b[0m\u001b[0;34m\u001b[0m\u001b[0;34m\u001b[0m\u001b[0;34m\u001b[0m\u001b[0m\n\u001b[0;32m--> 734\u001b[0;31m                 \u001b[0;32mraise\u001b[0m \u001b[0mKeyboardInterrupt\u001b[0m\u001b[0;34m\u001b[0m\u001b[0;34m\u001b[0m\u001b[0m\n\u001b[0m\u001b[1;32m    735\u001b[0m             \u001b[0;32melse\u001b[0m\u001b[0;34m:\u001b[0m\u001b[0;34m\u001b[0m\u001b[0;34m\u001b[0m\u001b[0m\n\u001b[1;32m    736\u001b[0m                 \u001b[0;32mbreak\u001b[0m\u001b[0;34m\u001b[0m\u001b[0;34m\u001b[0m\u001b[0m\n",
            "\u001b[0;31mKeyboardInterrupt\u001b[0m: "
          ]
        }
      ]
    },
    {
      "cell_type": "markdown",
      "metadata": {
        "id": "GGjXH3ub_ovn",
        "colab_type": "text"
      },
      "source": [
        "#Create Convolutional Neural Network\n",
        "Use Keras Functional API to create a conv net with 1 input and 2 outputs\n",
        "\n",
        "---\n",
        "\n",
        "convolutional neural network from conv_net.py\n",
        "\n"
      ]
    },
    {
      "cell_type": "code",
      "metadata": {
        "id": "4EH7-3wXhDTf",
        "colab_type": "code",
        "colab": {}
      },
      "source": [
        "from tensorflow.keras import layers, models, optimizers\n",
        "from tensorflow.keras.layers import *\n",
        "\n",
        "\n",
        "class ConvNet:\n",
        "    def __init__(self, input_shape, action_space):\n",
        "        inputA = Input(shape=input_shape, name='inputA')\n",
        "        inputB = Input(shape=input_shape, name='inputB')\n",
        "        inputC = Input(shape=input_shape, name='inputC')\n",
        "\n",
        "        x = Conv3D(32, 8, (4, 4, 4), activation='relu')(inputA)\n",
        "        x = MaxPooling3D()(x)\n",
        "        x = Conv3D(64, 1, (2, 2, 2), activation='relu')(x)\n",
        "        x = MaxPooling3D()(x)\n",
        "        x = Flatten()(x)\n",
        "        x = models.Model(inputs=inputA, outputs=x)\n",
        "\n",
        "        y = Conv3D(32, 8, (4, 4, 4), activation='relu')(inputB)\n",
        "        y = MaxPooling3D()(y)\n",
        "        y = Conv3D(64, 1, (2, 2, 2), activation='relu')(y)\n",
        "        y = MaxPooling3D()(y)\n",
        "        y = Flatten()(y)\n",
        "        y = models.Model(inputs=inputB, outputs=y)\n",
        "\n",
        "        z = Conv3D(32, 8, (4, 4, 4), activation='relu')(inputC)\n",
        "        z = MaxPooling3D()(z)\n",
        "        z = Conv3D(64, 1, (2, 2, 2), activation='relu')(z)\n",
        "        z = MaxPooling3D()(z)\n",
        "        z = Flatten()(z)\n",
        "        z = models.Model(inputs=inputC, outputs=z)\n",
        "\n",
        "        combined = Concatenate()([x.output, y.output, z.output])\n",
        "\n",
        "        key_conv_output = layers.Dense(action_space[0])(combined)\n",
        "        mouse_conv_output = layers.Dense(action_space[1])(combined)\n",
        "        combined_input = [x.input, y.input, z.input]\n",
        "        key_conv_net = models.Model(combined_input, key_conv_output, name=\"key_conv_net\")\n",
        "        mouse_conv_net = models.Model(combined_input, mouse_conv_output, name=\"mouse_conv_net\")\n",
        "        key_q_values = key_conv_net(combined_input)\n",
        "        mouse_q_values = mouse_conv_net(combined_input)\n",
        "        self.model = models.Model(inputs=combined_input, outputs=[key_q_values, mouse_q_values], name=\"full_conv_net\")\n",
        "        self.model.compile(loss=\"mean_squared_error\",\n",
        "                           optimizer=optimizers.RMSprop(lr=0.00025,\n",
        "                                                        rho=0.95,\n",
        "                                                        epsilon=0.01),\n",
        "                           metrics=[\"accuracy\"])\n",
        "\n",
        "        self.model.summary()\n",
        "\n"
      ],
      "execution_count": null,
      "outputs": []
    },
    {
      "cell_type": "markdown",
      "metadata": {
        "id": "cAx7ClXKAMQS",
        "colab_type": "text"
      },
      "source": [
        "#Set up DDQN Model\n",
        "ddqn model.py from individual"
      ]
    },
    {
      "cell_type": "code",
      "metadata": {
        "id": "Yk0jS0rL_jjn",
        "colab_type": "code",
        "colab": {}
      },
      "source": [
        "import os\n",
        "import random\n",
        "import numpy as np\n",
        "import csv\n",
        "\n",
        "# Hyper Parameters\n",
        "StartingReplaySize = 500\n",
        "ExplorationMax = 1\n",
        "MemorySize = 900000\n",
        "TrainingFrequency = 4\n",
        "BatchSize = 32\n",
        "Gamma = 0.99\n",
        "ExplorationMin = 0.1\n",
        "ExplorationSteps = 8500\n",
        "ExplorationDecay = (ExplorationMax - ExplorationMin)/ExplorationSteps\n",
        "ModelPersistenceUpdateFrequency = 10\n",
        "TargetUpdateFrequency = 40\n",
        "\n",
        "\n",
        "class ddqnModel:\n",
        "\n",
        "    def __init__(self, input_shape, action_space, model_path):\n",
        "        self.input_shape = input_shape\n",
        "        self.action_space = action_space\n",
        "        self.model_path = model_path\n",
        "        self.ddqn = ConvNet(self.input_shape, action_space).model\n",
        "        if os.path.isfile(self.model_path):\n",
        "            self.ddqn.load_weights(self.model_path)\n",
        "\n",
        "    def save_model(self):\n",
        "        self.ddqn.save_weights(self.model_path)\n",
        "\n",
        "\n",
        "class ddqnTrainer(ddqnModel):\n",
        "    def __init__(self, input_shape, action_space):\n",
        "        ddqnModel.__init__(self, input_shape, action_space, \"gdrive/My Drive\")\n",
        "        self.ddqn_target = ConvNet(self.input_shape, action_space).model\n",
        "        self.reset_target()\n",
        "        self.epsilon = ExplorationMax\n",
        "        self.memory = []\n",
        "\n",
        "    def reset_target(self):\n",
        "        self.ddqn_target.set_weights(self.ddqn.get_weights())\n",
        "\n",
        "    def move(self, state):\n",
        "        print(f\"memory: {len(self.memory)}\")\n",
        "        if np.random.rand() < self.epsilon or len(self.memory) < StartingReplaySize:\n",
        "            return random.randrange(self.action_space[0]), random.randrange(self.action_space[1])\n",
        "        q_values = self.ddqn.predict(np.transpose(np.expand_dims(np.asarray(state).astype(np.float64), axis=0), [0, 2, 3, 1]), batch_size=1)\n",
        "        return np.argmax(q_values[0]), np.argmax(q_values[1])\n",
        "\n",
        "    def remember(self, current_state, action, reward, next_state):\n",
        "        self.memory.append({\"current_state\": current_state,\n",
        "                            \"action\": action,\n",
        "                            \"reward\": reward,\n",
        "                            \"next_state\": next_state})\n",
        "        if len(self.memory) > MemorySize:\n",
        "            self.memory.pop(0)\n",
        "\n",
        "    def train(self):\n",
        "        batch = np.asarray(random.sample(self.memory, BatchSize))\n",
        "        if len(batch) < BatchSize:\n",
        "            return\n",
        "        current_states = []\n",
        "        q_values = []\n",
        "        max_q_values = []\n",
        "        for entry in batch:\n",
        "            current_state = np.transpose(np.expand_dims(np.asarray(entry[\"current_state\"]).astype(np.float64), axis=0), [0, 2, 3, 1])\n",
        "            current_states.append(current_state)\n",
        "            next_state = np.expand_dims(np.asarray(entry[\"next_state\"]).astype(np.float64), axis=0)\n",
        "            next_state = np.transpose(next_state, [0, 2, 3, 1])\n",
        "            # print(next_state.shape)\n",
        "            next_state_prediction = self.ddqn_target.predict(next_state)\n",
        "            # print(next_state_prediction)\n",
        "            next_state_prediction = [next_state_prediction[0].ravel(), next_state_prediction[1].ravel()]\n",
        "            next_q_value = [np.max(next_state_prediction[0]), np.max(next_state_prediction[1])]\n",
        "            q = [self.ddqn.predict(current_state)[0][0], self.ddqn.predict(current_state)[1][0]]\n",
        "            for i in range(len(entry[\"action\"])):\n",
        "                # print(len(entry[\"action\"]))\n",
        "                q[i][entry[\"action\"][i]] = entry[\"reward\"] + Gamma * next_q_value[i]\n",
        "            q_values.append(q)\n",
        "            max_q = [np.max(q[i]) for i in range(len(q))]\n",
        "            max_q_values.append(max_q)\n",
        "        max_q_values = np.asarray(max_q_values).flatten()\n",
        "        q_values = np.asarray(q_values).T.tolist()\n",
        "        # print(np.shape(q_values))\n",
        "        # print(q_values[0])\n",
        "        fitModel = self.ddqn.fit(np.asarray(current_states).squeeze(), y={\n",
        "                                    \"key_conv_net\": np.asarray([q_value.tolist() for q_value in q_values[0]]).squeeze(),\n",
        "                                    \"mouse_conv_net\": np.asarray([q_value.tolist() for q_value in q_values[1]]).squeeze()},\n",
        "                                 batch_size=BatchSize, verbose=0)\n",
        "        # print(fitModel.history)\n",
        "        loss = fitModel.history[\"loss\"][0]\n",
        "        accuracy = sum([int(fitModel.history[\"key_conv_net_accuracy\"][0]), int(fitModel.history[\"mouse_conv_net_accuracy\"][0])])/2\n",
        "        return loss, accuracy, sum(max_q_values.tolist())/len(max_q_values.tolist())\n",
        "\n",
        "    def update_epsilon(self):\n",
        "        self.epsilon -= ExplorationDecay\n",
        "        self.epsilon = max(ExplorationMin, self.epsilon)\n",
        "\n",
        "    def step_update(self, totalStep):\n",
        "        if len(self.memory) < StartingReplaySize:\n",
        "            return\n",
        "        if totalStep % TrainingFrequency == 0:\n",
        "            loss, accuracy, average_max_q = self.train()\n",
        "            self.save_csv(path=\"loss.csv\", score=loss)\n",
        "            self.save_csv(path=\"accuracy.csv\", score=accuracy)\n",
        "            print(f\"loss: {loss}, accuracy: {accuracy}, average_max_q: {average_max_q}\")\n",
        "        self.update_epsilon()\n",
        "        if totalStep % ModelPersistenceUpdateFrequency == 0:\n",
        "            self.save_model()\n",
        "        if totalStep % TargetUpdateFrequency == 0:\n",
        "            self.reset_target()\n",
        "            print('{{\"metric\": \"epsilon\", \"value\": {}}}'.format(self.epsilon))\n",
        "            print('{{\"metric\": \"total_step\", \"value\": {}}}'.format(totalStep))\n",
        "\n",
        "    def save_csv(self, path, score):\n",
        "        if not os.path.exists(path):\n",
        "            with open(path, \"w\"):\n",
        "                pass\n",
        "        scores_file = open(path, \"a\")\n",
        "        with scores_file:\n",
        "            writer = csv.writer(scores_file)\n",
        "            writer.writerow([score])"
      ],
      "execution_count": null,
      "outputs": []
    },
    {
      "cell_type": "markdown",
      "metadata": {
        "id": "o7dKq4YZAe3u",
        "colab_type": "text"
      },
      "source": [
        "#Initiate main loop\n",
        "Server uses sockets to listen for data"
      ]
    },
    {
      "cell_type": "code",
      "metadata": {
        "id": "PpGQ7aYYhGHs",
        "colab_type": "code",
        "colab": {
          "base_uri": "https://localhost:8080/",
          "height": 1000
        },
        "outputId": "7671efad-6569-4ae7-f9c6-299296c03ad3"
      },
      "source": [
        "import socket\n",
        "from threading import *\n",
        "import threading\n",
        "from struct import *\n",
        "from io import BytesIO\n",
        "import zlib\n",
        "import sys\n",
        "import numpy as np\n",
        "\n",
        "\n",
        "Frames = 28\n",
        "InputShape = (Frames, 1080, 1920, 3)\n",
        "TotalStepLimit = 5000000\n",
        "ActionSpace = (\"w\", \"a\", \"s\", \"d\", \"enter\", \"e\")\n",
        "MouseActionSpace = [[1061, 581], [1053, 619], [1031, 651], [999, 673], [961, 681], [922, 673], [890, 651], [868, 619], [861, 581], [868, 542], [890, 510], [922, 488], [961, 481], [999, 488], [1031, 510], [1053, 542]]\n",
        "\n",
        "class Server:\n",
        "    def __init__(self, host=\"\", port=65432, input_shape=InputShape, learning_rate=0.01, party_link=\"\"):\n",
        "        self.host = host\n",
        "        self.port = port\n",
        "        self.sock = socket.socket(socket.AF_INET, socket.SOCK_STREAM)\n",
        "\n",
        "        self.model = ddqnTrainer(InputShape, (len(ActionSpace), len(MouseActionSpace)) * 3)\n",
        "\n",
        "    def handle_image(self, conn):\n",
        "        try:\n",
        "            conn.send(self.party_link)\n",
        "            while True:\n",
        "                length = unpack('>Q', conn.recv(8))[0]\n",
        "                data = b''\n",
        "                while len(data) < length:\n",
        "                    to_read = length - len(data)\n",
        "                    data += conn.recv(min(to_read, 4096))\n",
        "\n",
        "                data = zlib.decompress(data)\n",
        "                data = np.frombuffer(data)\n",
        "                data = data.reshape(self.input_shape)\n",
        "                self.stateBuff = np.append(self.buff, data).reshape(np.append(-1, self.input_shape))\n",
        "                print(self.stateBuff.shape)\n",
        "\n",
        "                assert len(b'\\00') == 1\n",
        "                conn.send(b'\\00')\n",
        "        except BrokenPipeError as e:\n",
        "            self.sock.sendall(b'\\01')\n",
        "            print(\"Server shut down by user\")\n",
        "            sys.exit()\n",
        "        except Exception as e:\n",
        "            print(e)\n",
        "            self.sock.close()\n",
        "        finally:\n",
        "            conn.close()\n",
        "\n",
        "    def train():\n",
        "        total_step = 0\n",
        "        prev_score = 0\n",
        "        prev_action = [0, 0]\n",
        "        current_step = self.stateBuff\n",
        "        print(total_step)\n",
        "        while total_step <= TotalStepLimit:\n",
        "            total_step += 1\n",
        "            print(f\"Step: {total_step}\")\n",
        "            action = self.model.move(self.stateBuff)\n",
        "            sock.sendall(action)\n",
        "            prev_action = action\n",
        "            reward = np.sum(self.rewardBuff)\n",
        "            self.model.remember(current_state, action, reward, next_state)\n",
        "            thread = Thread(self.model.step_update, (total_step))\n",
        "            thread.start()\n",
        "\n",
        "    def start(self):\n",
        "        try:\n",
        "            self.sock.bind((self.host, self.port))\n",
        "            self.sock.listen(5)\n",
        "            while True:\n",
        "                conn, addr = self.sock.accept()\n",
        "\n",
        "                thread = Thread(target=self.handle_image, args=(conn,))\n",
        "                thread.start()\n",
        "                print(threading.active_count())\n",
        "                if self.buff.shape[0] >= 3:\n",
        "                    self.train()\n",
        "\n",
        "        except KeyboardInterrupt as e:\n",
        "            self.sock.sendall(b'\\01')\n",
        "            print(\"Server shut down by user\")\n",
        "            self.sock.close()\n",
        "            sys.exit()\n",
        "        finally:\n",
        "            self.sock.close()\n",
        "\n",
        "\n",
        "server = Server()\n",
        "server.start()"
      ],
      "execution_count": null,
      "outputs": [
        {
          "output_type": "stream",
          "text": [
            "Model: \"full_conv_net\"\n",
            "__________________________________________________________________________________________________\n",
            "Layer (type)                    Output Shape         Param #     Connected to                     \n",
            "==================================================================================================\n",
            "inputA (InputLayer)             [(None, 28, 1080, 19 0                                            \n",
            "__________________________________________________________________________________________________\n",
            "inputB (InputLayer)             [(None, 28, 1080, 19 0                                            \n",
            "__________________________________________________________________________________________________\n",
            "inputC (InputLayer)             [(None, 28, 1080, 19 0                                            \n",
            "__________________________________________________________________________________________________\n",
            "key_conv_net (Model)            (None, 6)            97480230    inputA[0][0]                     \n",
            "                                                                 inputB[0][0]                     \n",
            "                                                                 inputC[0][0]                     \n",
            "__________________________________________________________________________________________________\n",
            "mouse_conv_net (Model)          (None, 16)           97487920    inputA[0][0]                     \n",
            "                                                                 inputB[0][0]                     \n",
            "                                                                 inputC[0][0]                     \n",
            "==================================================================================================\n",
            "Total params: 97,492,534\n",
            "Trainable params: 97,492,534\n",
            "Non-trainable params: 0\n",
            "__________________________________________________________________________________________________\n",
            "Model: \"full_conv_net\"\n",
            "__________________________________________________________________________________________________\n",
            "Layer (type)                    Output Shape         Param #     Connected to                     \n",
            "==================================================================================================\n",
            "inputA (InputLayer)             [(None, 28, 1080, 19 0                                            \n",
            "__________________________________________________________________________________________________\n",
            "inputB (InputLayer)             [(None, 28, 1080, 19 0                                            \n",
            "__________________________________________________________________________________________________\n",
            "inputC (InputLayer)             [(None, 28, 1080, 19 0                                            \n",
            "__________________________________________________________________________________________________\n",
            "key_conv_net (Model)            (None, 6)            97480230    inputA[0][0]                     \n",
            "                                                                 inputB[0][0]                     \n",
            "                                                                 inputC[0][0]                     \n",
            "__________________________________________________________________________________________________\n",
            "mouse_conv_net (Model)          (None, 16)           97487920    inputA[0][0]                     \n",
            "                                                                 inputB[0][0]                     \n",
            "                                                                 inputC[0][0]                     \n",
            "==================================================================================================\n",
            "Total params: 97,492,534\n",
            "Trainable params: 97,492,534\n",
            "Non-trainable params: 0\n",
            "__________________________________________________________________________________________________\n"
          ],
          "name": "stdout"
        },
        {
          "output_type": "error",
          "ename": "BrokenPipeError",
          "evalue": "ignored",
          "traceback": [
            "\u001b[0;31m---------------------------------------------------------------------------\u001b[0m",
            "\u001b[0;31mKeyboardInterrupt\u001b[0m                         Traceback (most recent call last)",
            "\u001b[0;32m<ipython-input-17-a69c759ddc28>\u001b[0m in \u001b[0;36mstart\u001b[0;34m(self)\u001b[0m\n\u001b[1;32m     74\u001b[0m             \u001b[0;32mwhile\u001b[0m \u001b[0;32mTrue\u001b[0m\u001b[0;34m:\u001b[0m\u001b[0;34m\u001b[0m\u001b[0;34m\u001b[0m\u001b[0m\n\u001b[0;32m---> 75\u001b[0;31m                 \u001b[0mconn\u001b[0m\u001b[0;34m,\u001b[0m \u001b[0maddr\u001b[0m \u001b[0;34m=\u001b[0m \u001b[0mself\u001b[0m\u001b[0;34m.\u001b[0m\u001b[0msock\u001b[0m\u001b[0;34m.\u001b[0m\u001b[0maccept\u001b[0m\u001b[0;34m(\u001b[0m\u001b[0;34m)\u001b[0m\u001b[0;34m\u001b[0m\u001b[0;34m\u001b[0m\u001b[0m\n\u001b[0m\u001b[1;32m     76\u001b[0m \u001b[0;34m\u001b[0m\u001b[0m\n",
            "\u001b[0;32m/usr/lib/python3.6/socket.py\u001b[0m in \u001b[0;36maccept\u001b[0;34m(self)\u001b[0m\n\u001b[1;32m    204\u001b[0m         \"\"\"\n\u001b[0;32m--> 205\u001b[0;31m         \u001b[0mfd\u001b[0m\u001b[0;34m,\u001b[0m \u001b[0maddr\u001b[0m \u001b[0;34m=\u001b[0m \u001b[0mself\u001b[0m\u001b[0;34m.\u001b[0m\u001b[0m_accept\u001b[0m\u001b[0;34m(\u001b[0m\u001b[0;34m)\u001b[0m\u001b[0;34m\u001b[0m\u001b[0;34m\u001b[0m\u001b[0m\n\u001b[0m\u001b[1;32m    206\u001b[0m         \u001b[0;31m# If our type has the SOCK_NONBLOCK flag, we shouldn't pass it onto the\u001b[0m\u001b[0;34m\u001b[0m\u001b[0;34m\u001b[0m\u001b[0;34m\u001b[0m\u001b[0m\n",
            "\u001b[0;31mKeyboardInterrupt\u001b[0m: ",
            "\nDuring handling of the above exception, another exception occurred:\n",
            "\u001b[0;31mBrokenPipeError\u001b[0m                           Traceback (most recent call last)",
            "\u001b[0;32m<ipython-input-17-a69c759ddc28>\u001b[0m in \u001b[0;36m<module>\u001b[0;34m()\u001b[0m\n\u001b[1;32m     91\u001b[0m \u001b[0;34m\u001b[0m\u001b[0m\n\u001b[1;32m     92\u001b[0m \u001b[0mserver\u001b[0m \u001b[0;34m=\u001b[0m \u001b[0mServer\u001b[0m\u001b[0;34m(\u001b[0m\u001b[0;34m)\u001b[0m\u001b[0;34m\u001b[0m\u001b[0;34m\u001b[0m\u001b[0m\n\u001b[0;32m---> 93\u001b[0;31m \u001b[0mserver\u001b[0m\u001b[0;34m.\u001b[0m\u001b[0mstart\u001b[0m\u001b[0;34m(\u001b[0m\u001b[0;34m)\u001b[0m\u001b[0;34m\u001b[0m\u001b[0;34m\u001b[0m\u001b[0m\n\u001b[0m",
            "\u001b[0;32m<ipython-input-17-a69c759ddc28>\u001b[0m in \u001b[0;36mstart\u001b[0;34m(self)\u001b[0m\n\u001b[1;32m     82\u001b[0m \u001b[0;34m\u001b[0m\u001b[0m\n\u001b[1;32m     83\u001b[0m         \u001b[0;32mexcept\u001b[0m \u001b[0mKeyboardInterrupt\u001b[0m \u001b[0;32mas\u001b[0m \u001b[0me\u001b[0m\u001b[0;34m:\u001b[0m\u001b[0;34m\u001b[0m\u001b[0;34m\u001b[0m\u001b[0m\n\u001b[0;32m---> 84\u001b[0;31m             \u001b[0mself\u001b[0m\u001b[0;34m.\u001b[0m\u001b[0msock\u001b[0m\u001b[0;34m.\u001b[0m\u001b[0msendall\u001b[0m\u001b[0;34m(\u001b[0m\u001b[0;34mb'\\01'\u001b[0m\u001b[0;34m)\u001b[0m\u001b[0;34m\u001b[0m\u001b[0;34m\u001b[0m\u001b[0m\n\u001b[0m\u001b[1;32m     85\u001b[0m             \u001b[0mprint\u001b[0m\u001b[0;34m(\u001b[0m\u001b[0;34m\"Server shut down by user\"\u001b[0m\u001b[0;34m)\u001b[0m\u001b[0;34m\u001b[0m\u001b[0;34m\u001b[0m\u001b[0m\n\u001b[1;32m     86\u001b[0m             \u001b[0mself\u001b[0m\u001b[0;34m.\u001b[0m\u001b[0msock\u001b[0m\u001b[0;34m.\u001b[0m\u001b[0mclose\u001b[0m\u001b[0;34m(\u001b[0m\u001b[0;34m)\u001b[0m\u001b[0;34m\u001b[0m\u001b[0;34m\u001b[0m\u001b[0m\n",
            "\u001b[0;31mBrokenPipeError\u001b[0m: [Errno 32] Broken pipe"
          ]
        }
      ]
    },
    {
      "cell_type": "markdown",
      "metadata": {
        "id": "N5sGgljXaTjL",
        "colab_type": "text"
      },
      "source": [
        "Kill Ngrok when Done"
      ]
    },
    {
      "cell_type": "code",
      "metadata": {
        "id": "ACzGZ2_MaSQi",
        "colab_type": "code",
        "colab": {}
      },
      "source": [
        "# When done, kill Ngrok\n",
        "\n",
        "!kill $(ps aux | grep './ngrok' | awk '{print $2}')"
      ],
      "execution_count": null,
      "outputs": []
    }
  ]
}